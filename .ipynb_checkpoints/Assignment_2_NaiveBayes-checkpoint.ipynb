{
 "cells": [
  {
   "cell_type": "code",
   "execution_count": null,
   "metadata": {},
   "outputs": [
    {
     "name": "stderr",
     "output_type": "stream",
     "text": [
      "Using TensorFlow backend.\n"
     ]
    }
   ],
   "source": [
    "import pandas as pd\n",
    "import seaborn as sns\n",
    "from sklearn.preprocessing import StandardScaler\n",
    "from sklearn.preprocessing import MinMaxScaler\n",
    "from sklearn.naive_bayes import ComplementNB\n",
    "from sklearn import metrics\n",
    "from sklearn.metrics import confusion_matrix\n",
    "from imblearn.combine import SMOTEENN, SMOTETomek\n",
    "from imblearn.over_sampling import BorderlineSMOTE, ADASYN\n",
    "from collections import defaultdict\n",
    "from sklearn.model_selection import StratifiedShuffleSplit\n",
    "from sklearn.metrics import balanced_accuracy_score, classification_report, roc_auc_score\n",
    "from yellowbrick.model_selection import ValidationCurve\n",
    "from yellowbrick.classifier import ROCAUC\n",
    "import warnings\n",
    "random_state=42"
   ]
  },
  {
   "cell_type": "code",
   "execution_count": null,
   "metadata": {},
   "outputs": [],
   "source": [
    "#data = pd.read_csv(\"/Users/max/Quick Jupyter Notebooks/MMAI/MMAI 823 - Finance/Bankruptcy_data_Final.csv\", header=0)"
   ]
  },
  {
   "cell_type": "code",
   "execution_count": null,
   "metadata": {},
   "outputs": [],
   "source": [
    "#data_noNa = data.dropna()\n",
    "data_noNa = pd.read_csv('data/cleaned_data.csv')"
   ]
  },
  {
   "cell_type": "code",
   "execution_count": null,
   "metadata": {},
   "outputs": [],
   "source": [
    "corr = data_noNa.corr()"
   ]
  },
  {
   "cell_type": "code",
   "execution_count": null,
   "metadata": {
    "code_folding": [
     0
    ]
   },
   "outputs": [],
   "source": [
    "ax = sns.heatmap(\n",
    "    corr, \n",
    "    vmin=-1, vmax=1, center=0,\n",
    "    cmap=sns.diverging_palette(20, 220, n=200),\n",
    "    square=True\n",
    ")\n",
    "ax.set_xticklabels(\n",
    "    ax.get_xticklabels(),\n",
    "    rotation=45,\n",
    "    horizontalalignment='right'\n",
    ")"
   ]
  },
  {
   "cell_type": "code",
   "execution_count": null,
   "metadata": {},
   "outputs": [],
   "source": [
    "std_scaler = StandardScaler()\n",
    "minmax_scaler = MinMaxScaler()\n",
    "scaled_data_noNan = data_noNa.copy()"
   ]
  },
  {
   "cell_type": "code",
   "execution_count": null,
   "metadata": {
    "code_folding": []
   },
   "outputs": [],
   "source": [
    "# Scale values using min/max if there are only positive values, \n",
    "# and standard scaler if the minimum value is less than 0 to capture the negative values\n",
    "\n",
    "# STRIKE THIS: NAIVE BAYS CAN ONLY HAVE NON-NEGATIVE VALUES\n",
    "\n",
    "for (columnName, columnData) in scaled_data_noNan.iteritems():\n",
    "    scaled_data_noNan[columnName] = minmax_scaler.fit_transform(columnData.values.reshape(-1,1))\n",
    "\n",
    "X = scaled_data_noNan.iloc[:, :13]\n",
    "y = scaled_data_noNan.iloc[:,-1:]\n",
    "# Stratified Shuffle Split into Train/Test\n",
    "sss = StratifiedShuffleSplit(test_size=0.2, random_state=random_state)\n",
    "sss.get_n_splits(X, y)\n",
    "\n",
    "for train_idx, test_idx in sss.split(X,y):\n",
    "    X_train, X_test = X.iloc[train_idx], X.iloc[test_idx]\n",
    "    y_train, y_test = y.iloc[train_idx].values, y.iloc[test_idx].values"
   ]
  },
  {
   "cell_type": "code",
   "execution_count": null,
   "metadata": {
    "code_folding": [
     0
    ]
   },
   "outputs": [],
   "source": [
    "# Resampling\n",
    "\n",
    "resampled = defaultdict()\n",
    "\n",
    "# SMOTEN-NN\n",
    "resampler = SMOTEENN(random_state=random_state)\n",
    "X_rs, y_rs = resampler.fit_resample(X_train,y_train)\n",
    "X_rs[\"BK\"] = y_rs\n",
    "resampled['SMOTEENN'] = X_rs\n",
    "\n",
    "# SMOTE-Tomek\n",
    "resampler = SMOTETomek(random_state=random_state)\n",
    "X_rs, y_rs = resampler.fit_resample(X_train,y_train)\n",
    "X_rs[\"BK\"] = y_rs\n",
    "resampled['SMOTETomek'] = X_rs\n",
    "\n",
    "#BorderlineSMOTE\n",
    "resampler = BorderlineSMOTE(random_state=random_state)\n",
    "X_rs, y_rs = resampler.fit_resample(X_train,y_train)\n",
    "X_rs[\"BK\"] = y_rs\n",
    "resampled['BorderlineSMOTE'] = X_rs\n",
    "\n",
    "#ADASYN\n",
    "resampler = ADASYN(random_state=random_state)\n",
    "X_rs, y_rs = resampler.fit_resample(X_train,y_train)\n",
    "X_rs[\"BK\"] = y_rs\n",
    "resampled['ADASYN'] = X_rs\n"
   ]
  },
  {
   "cell_type": "markdown",
   "metadata": {},
   "source": [
    "## Assumptions\n",
    " - Naive Bayes classifiers assume that all predictors have equal effect on the outcome, however we are fairly confident that this is not the case"
   ]
  },
  {
   "cell_type": "code",
   "execution_count": null,
   "metadata": {
    "code_folding": [
     0
    ]
   },
   "outputs": [],
   "source": [
    "# corr_normalized = scaled_data_noNan.corr()\n",
    "\n",
    "# ax = sns.heatmap(\n",
    "#     corr_normalized, \n",
    "#     vmin=-1, vmax=1, center=0,\n",
    "#     cmap=sns.diverging_palette(20, 220, n=200),\n",
    "#     square=True\n",
    "# )\n",
    "# ax.set_xticklabels(\n",
    "#     ax.get_xticklabels(),\n",
    "#     rotation=45,\n",
    "#     horizontalalignment='right'\n",
    "# )"
   ]
  },
  {
   "cell_type": "code",
   "execution_count": null,
   "metadata": {},
   "outputs": [],
   "source": [
    "model = ComplementNB()"
   ]
  },
  {
   "cell_type": "code",
   "execution_count": null,
   "metadata": {},
   "outputs": [],
   "source": [
    "# Baseline Model - No Sampling\n",
    "\n",
    "model.fit(X_train, y_train)\n",
    "predictions = model.predict(X_test)\n",
    "\n",
    "# Balanced Accuracy Score\n",
    "rf_score = balanced_accuracy_score(y_test, predictions)\n",
    "# AUC Score\n",
    "rf_auc = roc_auc_score(y_test, predictions)\n",
    "\n",
    "print('Benchmark Balanced Accuracy: ' + str(rf_score))\n",
    "print('Benchmark AUC Score:' + str(rf_auc))\n",
    "print(classification_report(y_test, predictions, digits=3))\n"
   ]
  },
  {
   "cell_type": "code",
   "execution_count": null,
   "metadata": {},
   "outputs": [],
   "source": [
    "for set in resampled:\n",
    "    warnings.filterwarnings(\"ignore\")\n",
    "\n",
    "    X_train = resampled[set].iloc[:, :13]\n",
    "    y_train = resampled[set].iloc[:,-1:].values.reshape(-1,1)\n",
    "    model.fit(X_train, y_train)\n",
    "    predictions = model.predict(X_test)\n",
    "    \n",
    "    # Balanced Accuracy Score\n",
    "    rf_score = balanced_accuracy_score(y_test.reshape(-1,1), predictions.reshape(-1,1))\n",
    "    # AUC Score\n",
    "    rf_auc = roc_auc_score(y_test.reshape(-1,1), predictions.reshape(-1,1))\n",
    "    print('Resampled Using ' + str(set))\n",
    "    print('Benchmark Balanced Accuracy: ' + str(rf_score))\n",
    "    print('Benchmark AUC Score:' + str(rf_auc))\n",
    "    print(classification_report(y_test.reshape(-1,1), predictions.reshape(-1,1), digits=3))"
   ]
  },
  {
   "cell_type": "code",
   "execution_count": null,
   "metadata": {},
   "outputs": [],
   "source": []
  },
  {
   "cell_type": "code",
   "execution_count": null,
   "metadata": {},
   "outputs": [],
   "source": []
  },
  {
   "cell_type": "code",
   "execution_count": null,
   "metadata": {},
   "outputs": [],
   "source": []
  },
  {
   "cell_type": "code",
   "execution_count": null,
   "metadata": {},
   "outputs": [],
   "source": []
  },
  {
   "cell_type": "code",
   "execution_count": null,
   "metadata": {},
   "outputs": [],
   "source": []
  },
  {
   "cell_type": "code",
   "execution_count": null,
   "metadata": {},
   "outputs": [],
   "source": []
  },
  {
   "cell_type": "code",
   "execution_count": null,
   "metadata": {},
   "outputs": [],
   "source": []
  }
 ],
 "metadata": {
  "kernelspec": {
   "display_name": "Python 3",
   "language": "python",
   "name": "python3"
  },
  "language_info": {
   "codemirror_mode": {
    "name": "ipython",
    "version": 3
   },
   "file_extension": ".py",
   "mimetype": "text/x-python",
   "name": "python",
   "nbconvert_exporter": "python",
   "pygments_lexer": "ipython3",
   "version": "3.6.8"
  },
  "varInspector": {
   "cols": {
    "lenName": 16,
    "lenType": 16,
    "lenVar": 40
   },
   "kernels_config": {
    "python": {
     "delete_cmd_postfix": "",
     "delete_cmd_prefix": "del ",
     "library": "var_list.py",
     "varRefreshCmd": "print(var_dic_list())"
    },
    "r": {
     "delete_cmd_postfix": ") ",
     "delete_cmd_prefix": "rm(",
     "library": "var_list.r",
     "varRefreshCmd": "cat(var_dic_list()) "
    }
   },
   "position": {
    "height": "489px",
    "left": "1257px",
    "right": "20px",
    "top": "122px",
    "width": "305px"
   },
   "types_to_exclude": [
    "module",
    "function",
    "builtin_function_or_method",
    "instance",
    "_Feature"
   ],
   "window_display": false
  }
 },
 "nbformat": 4,
 "nbformat_minor": 2
}
